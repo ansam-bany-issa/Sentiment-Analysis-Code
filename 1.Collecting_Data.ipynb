{
 "cells": [
  {
   "cell_type": "code",
   "execution_count": null,
   "id": "fdf6765f",
   "metadata": {},
   "outputs": [],
   "source": [
    "pip install snscrape"
   ]
  },
  {
   "cell_type": "code",
   "execution_count": null,
   "id": "783c49f8",
   "metadata": {},
   "outputs": [],
   "source": [
    "#Collecting Data from Twitter\n",
    "import snscrape.modules.twitter as sntwitter\n",
    "import pandas as pd \n",
    "\n",
    "query = \"(#Jungkook OR #KPOP OR #Dreamers) until:2022-12-20 since:2022-11-20 lang:en\"\n",
    "tweets = [] \n",
    "limits = 500000\n",
    "for tweet in sntwitter.TwitterSearchScraper(query).get_items(): \n",
    "    if len(tweets)==limits: \n",
    "        break \n",
    "    else: \n",
    "        tweets.append([tweet.date,tweet.user.location,tweet.content]) \n",
    "\n",
    "pf = pd.DataFrame(tweets, columns=['Date', 'Location','Tweet']) \n",
    "\n",
    "pf.head(5)\n",
    "pf.to_csv('after.csv')\n",
    "print('done')"
   ]
  },
  {
   "cell_type": "code",
   "execution_count": null,
   "id": "7b715cc3",
   "metadata": {},
   "outputs": [],
   "source": []
  }
 ],
 "metadata": {
  "kernelspec": {
   "display_name": "Python 3 (ipykernel)",
   "language": "python",
   "name": "python3"
  },
  "language_info": {
   "codemirror_mode": {
    "name": "ipython",
    "version": 3
   },
   "file_extension": ".py",
   "mimetype": "text/x-python",
   "name": "python",
   "nbconvert_exporter": "python",
   "pygments_lexer": "ipython3",
   "version": "3.9.13"
  }
 },
 "nbformat": 4,
 "nbformat_minor": 5
}
