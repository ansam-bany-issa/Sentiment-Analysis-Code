{
  "nbformat": 4,
  "nbformat_minor": 0,
  "metadata": {
    "colab": {
      "provenance": []
    },
    "kernelspec": {
      "name": "python3",
      "display_name": "Python 3"
    },
    "language_info": {
      "name": "python"
    }
  },
  "cells": [
    {
      "cell_type": "code",
      "source": [
        "pip install neattext"
      ],
      "metadata": {
        "id": "HrvoXm7Bm_Md"
      },
      "execution_count": null,
      "outputs": []
    },
   
    {
      "cell_type": "code",
      "source": [
        "import neattext.functions as nfx\n",
        "import pandas as pd \n",
        "\n",
        "# Read The Dataset\n",
        "data = pd.read_csv('after.csv',  encoding='ISO-8859-1')\n",
        "\n",
        "# Select the desired column from the dataset\n",
        "tweet_text = data['Tweet']\n",
        "\n",
        "# Preprocessing -- Data Cleaning \n",
        "# Remove Hashtags\n",
        "clean_tweet = tweet_text.apply(nfx.remove_hashtags)\n",
        "#Remove Users\n",
        "clean_tweet = clean_tweet.apply(lambda x: nfx.remove_userhandles(x))\n",
        "#Remove Multiple Spaces\n",
        "clean_tweet = clean_tweet.apply(nfx.remove_multiple_spaces)\n",
        "#Remove URLs\n",
        "clean_tweet = clean_tweet.apply(nfx.remove_urls)\n",
        "#Remove Special Characters\n",
        "clean_tweet = clean_tweet.apply(nfx.remove_puncts)\n",
        "clean_tweet = clean_tweet.apply(nfx.remove_emojis)\n",
        "clean_tweet = clean_tweet.apply(nfx.remove_special_characters)\n",
        "clean_tweet = clean_tweet.apply(nfx.remove_punctuations)\n",
        "#Remove Dates\n",
        "clean_tweet = clean_tweet.apply(nfx.remove_dates)\n",
        "#Remove Emails and Phone numbers\n",
        "clean_tweet = clean_tweet.apply(nfx.remove_emails)\n",
        "clean_tweet = clean_tweet.apply(nfx.remove_phone_numbers)\n",
        "\n",
        "clean_tweet.to_csv('after_pre.csv')\n",
        "print('Done')\n"
      ],
      "metadata": {
        "id": "Rp99_WIsm-1Q"
      },
      "execution_count": null,
      "outputs": []
    },
 
    {
      "cell_type": "code",
      "source": [
        "!pip install transformers"
      ],
      "metadata": {
        "id": "4c-9zkmKks7L"
      },
      "execution_count": null,
      "outputs": []
    },
    {
      "cell_type": "code",
      "source": [
        "!pip install scipy"
      ],
      "metadata": {
        "id": "eEFC_P31qVl0"
      },
      "execution_count": null,
      "outputs": []
    },
    {
      "cell_type": "code",
      "source": [
        "import torch\n",
        "from torch.utils.data import Dataset\n",
        "from transformers import AutoTokenizer, AutoModelForSequenceClassification\n",
        "from scipy.special import softmax \n",
        "\n",
        "#Loading Model and Tokenizer\n",
        "roberta = \"cardiffnlp/twitter-roberta-base-sentiment\" \n",
        "model = AutoModelForSequenceClassification.from_pretrained(roberta) \n",
        "tokenizer = AutoTokenizer.from_pretrained(roberta)\n",
        "\n",
        "#The Labels\n",
        "labels = ['Negative', 'Neutral', 'Positive']\n",
        "labels_df = []\n",
        "for index in data.index:\n",
        "    #Sentiment Analysis\n",
        "    encoded_tweet = tokenizer(clean_tweet[index], return_tensors='pt')\n",
        "\n",
        "    output = model(**encoded_tweet)\n",
        "\n",
        "    scores = output[0][0].detach().numpy()\n",
        "    scores = softmax(scores)\n",
        "\n",
        "    highest_score = scores[0]\n",
        "    label = labels[0]\n",
        "    i = 0\n",
        "    for score in scores:\n",
        "        if score > highest_score:\n",
        "            highest_score = score\n",
        "            label = labels[i]\n",
        "        i+=1\n",
        "    print(\"The result: \",highest_score, label)\n",
        "\n",
        "    labels_df.insert(index,label)\n",
        "    print('************************************************\\n')\n",
        "\n",
        "#Add the preprossed text and the labels into the data frame\n",
        "data['Tweet'] = clean_tweet\n",
        "data['Label'] = labels_df\n"
      ],
      "metadata": {
        "id": "6TdkXFQFmuGj"
      },
      "execution_count": null,
      "outputs": []
    },
    {
      "cell_type": "code",
      "source": [
        "#visualization\n",
        "import pandas as pd\n",
        "import numpy as np\n",
        "import matplotlib as mpl\n",
        "import matplotlib.pyplot as plt\n",
        "import seaborn as sns\n",
        "\n",
        "label_theme = ['#1c78ac', '#dbb152','#89acff'] # color palette\n",
        "pie = data['Label'].value_counts().plot.pie(figsize=(7,7),autopct= \"%.2f%%\", colors = label_theme, \n",
        "                                                  textprops={'color':\"black\", 'size' : 'large', 'fontweight' : 'bold'})\n",
        "pie.set_title('Roberta result after the Show', fontdict = {'color':\"black\", 'size' : 'xx-large', 'fontweight' : 'bold'})"
      ],
      "metadata": {
        "id": "lPAJeR1Zq7nu"
      },
      "execution_count": null,
      "outputs": []
    },
  ]
}
