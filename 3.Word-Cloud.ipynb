{
 "cells": [
  {
   "cell_type": "code",
   "execution_count": null,
   "id": "f21de7f7",
   "metadata": {},
   "outputs": [],
   "source": [
    "pip install wordcloud"
   ]
  },
  {
   "cell_type": "code",
   "execution_count": null,
   "id": "c8bce911",
   "metadata": {},
   "outputs": [],
   "source": [
    "pip install matplotlib"
   ]
  },
  {
   "cell_type": "code",
   "execution_count": null,
   "id": "55ab5c2c",
   "metadata": {},
   "outputs": [],
   "source": [
    "import numpy as np\n",
    "import pandas as pd\n",
    "import matplotlib.pyplot as plt\n",
    "from PIL import Image\n",
    "from wordcloud import WordCloud, STOPWORDS, ImageColorGenerator\n",
    "\n",
    "#READ THE FILE\n",
    "test = pd.read_csv('after_pre.csv')\n",
    "\n",
    "\n",
    "# wordclod for all the words in train\n",
    "text = \" \".join(text for text in test['Tweet'])\n",
    "\n",
    "# Create and Generate a Word Cloud Image\n",
    "wordcloud = WordCloud().generate(text)\n",
    "\n",
    "\n",
    "# Generate a word cloud image\n",
    "stopwords = set(STOPWORDS)\n",
    "mask = np.array(Image.open(\"BTS.jpg\"))\n",
    "wordcloud = WordCloud(stopwords=stopwords,background_color='black', max_words=800, \n",
    "                      mask=mask,contour_color='#023075',max_font_size = 100,contour_width=3,\n",
    "                      colormap='rainbow').generate(' '.join(test['Tweet']))\n",
    "# create image as cloud\n",
    "fig = plt.figure(1, figsize=(7,7))\n",
    "plt.imshow(wordcloud, interpolation=\"bilinear\")\n",
    "plt.axis(\"off\")\n",
    "# store to file\n",
    "plt.savefig(\"BTS_after_pre max800.png\", format=\"png\")\n",
    "plt.show()\n"
   ]
  },
  {
   "cell_type": "code",
   "execution_count": null,
   "id": "e5c7538a",
   "metadata": {},
   "outputs": [],
   "source": []
  }
 ],
 "metadata": {
  "kernelspec": {
   "display_name": "Python 3 (ipykernel)",
   "language": "python",
   "name": "python3"
  },
  "language_info": {
   "codemirror_mode": {
    "name": "ipython",
    "version": 3
   },
   "file_extension": ".py",
   "mimetype": "text/x-python",
   "name": "python",
   "nbconvert_exporter": "python",
   "pygments_lexer": "ipython3",
   "version": "3.9.13"
  },
  "vscode": {
   "interpreter": {
    "hash": "4e9e9dbbfbcbcb52765e1eab8a742396d36cad0eba09a2280794fc001ded8e7e"
   }
  }
 },
 "nbformat": 4,
 "nbformat_minor": 5
}
