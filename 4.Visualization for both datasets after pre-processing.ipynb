{
 "cells": [
  {
   "cell_type": "code",
   "execution_count": null,
   "id": "d6dc2553",
   "metadata": {},
   "outputs": [],
   "source": [
    "import seaborn as sns \n",
    "import pandas as pd\n",
    "import numpy as np\n",
    "import matplotlib as mpl\n",
    "import matplotlib.pyplot as plt\n",
    "import matplotlib.gridspec as gridspec \n"
   ]
  },
  {
   "cell_type": "code",
   "execution_count": null,
   "id": "d8475d13",
   "metadata": {},
   "outputs": [],
   "source": [
    "#The First Dataset\n",
    "before = pd.read_csv(\"before.csv\")\n",
    "\n",
    "#The Second Dataset\n",
    "after = pd.read_csv(\"after.csv\" , encoding=\"ISO-8859-1\")"
   ]
  },
  {
   "cell_type": "code",
   "execution_count": null,
   "id": "a987ef78",
   "metadata": {},
   "outputs": [],
   "source": [
    "print(\"Information about the First dataset'Before the Show' \\n\")\n",
    "before.info()\n",
    "\n",
    "print(\"\\n Information about the Second dataset'After the Show' \\n\")\n",
    "after.info()"
   ]
  },
  {
   "cell_type": "code",
   "execution_count": null,
   "id": "45d5cf84",
   "metadata": {},
   "outputs": [],
   "source": [
    "print(\"Size of the First dataset'Before the Show' \\n\")\n",
    "before.shape"
   ]
  },
  {
   "cell_type": "code",
   "execution_count": null,
   "id": "2334da8f",
   "metadata": {},
   "outputs": [],
   "source": [
    "print(\"\\n Size of the  Second dataset'After the Show' \\n\")\n",
    "after.shape"
   ]
  },
  {
   "cell_type": "code",
   "execution_count": null,
   "id": "95a56156",
   "metadata": {},
   "outputs": [],
   "source": [
    "print(\"First dataset'Before the Show' \\n\")\n",
    "before.head(5)"
   ]
  },
  {
   "cell_type": "code",
   "execution_count": null,
   "id": "12847f19",
   "metadata": {},
   "outputs": [],
   "source": [
    "print(\"\\n Second dataset'After the Show' \\n\")\n",
    "after.head(5)"
   ]
  },
  {
   "cell_type": "code",
   "execution_count": null,
   "id": "1d4dc499",
   "metadata": {},
   "outputs": [],
   "source": [
    "print(\"Top 10 Tweets Before the JK's Show with count of it\")\n",
    "print('---------------------------------------------------\\n')\n",
    "print(before['Tweet'].value_counts()[:5])\n",
    "\n",
    "print(\"\\n \\n Top 10 Tweets After the JK's Show with count of it\")\n",
    "print('---------------------------------------------------\\n')\n",
    "print(after['Tweet'].value_counts()[:5])"
   ]
  },
  {
   "cell_type": "code",
   "execution_count": null,
   "id": "91856b84",
   "metadata": {},
   "outputs": [],
   "source": [
    "pic = (before['Tweet'].value_counts()[:5])\n",
    "pic.plot(kind='bar', figsize=(5,4))\n",
    "plt.ylabel('Total Tweet')\n",
    "plt.title('Top 5 Tweets Before the Show');"
   ]
  },
  {
   "cell_type": "code",
   "execution_count": null,
   "id": "38af9eca",
   "metadata": {},
   "outputs": [],
   "source": [
    "pic = (after['Tweet'].value_counts()[:5])\n",
    "pic.plot(kind='bar', figsize=(5,4))\n",
    "plt.ylabel('Total Tweet')\n",
    "plt.title('Top 5 Tweets After the Show');"
   ]
  },
  {
   "cell_type": "code",
   "execution_count": null,
   "id": "f63e2a74",
   "metadata": {},
   "outputs": [],
   "source": []
  },
  {
   "cell_type": "code",
   "execution_count": null,
   "id": "be25ef52",
   "metadata": {},
   "outputs": [],
   "source": []
  }
 ],
 "metadata": {
  "kernelspec": {
   "display_name": "Python 3 (ipykernel)",
   "language": "python",
   "name": "python3"
  },
  "language_info": {
   "codemirror_mode": {
    "name": "ipython",
    "version": 3
   },
   "file_extension": ".py",
   "mimetype": "text/x-python",
   "name": "python",
   "nbconvert_exporter": "python",
   "pygments_lexer": "ipython3",
   "version": "3.9.13"
  }
 },
 "nbformat": 4,
 "nbformat_minor": 5
}
